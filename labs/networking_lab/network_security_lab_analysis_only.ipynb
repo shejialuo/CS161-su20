{
 "cells": [
  {
   "cell_type": "markdown",
   "metadata": {},
   "source": [
    "# CS 161: Network Security Lab\n",
    "v1.0 (2020 Summer) Shomil Jain."
   ]
  },
  {
   "cell_type": "markdown",
   "metadata": {},
   "source": [
    "Hey! Welcome to the world of network security. In this lab, you'll have a chance to apply some of the concepts you've learned over the past few week. This lab has two parts.\n",
    "1. **Part 1:** Coffee Shop Attacks [TCP/IP, TLS]\n",
    "2. **Part 2:** Other Networking Topics [DNS, DNSSec]"
   ]
  },
  {
   "cell_type": "markdown",
   "metadata": {},
   "source": [
    "***"
   ]
  },
  {
   "cell_type": "markdown",
   "metadata": {},
   "source": [
    "**<h3>This is a modified version of the original network security lab that doesn't require root access and should work on all computers.</h3>**\n",
    "\n",
    "Unfortunately, it's not as interactive as the original version, but it should still get the point across!"
   ]
  },
  {
   "cell_type": "markdown",
   "metadata": {},
   "source": [
    "---\n",
    "\n",
    "# Environment Setup\n",
    "\n",
    "This lab requires the Python `flask`, `scapy`, and `requests` modules. `scapy` should work out-of-the-box for MacOS; if you're using a Linux or Windows device, you may need to follow additional platform-specific versions available [here](https://scapy.readthedocs.io/en/latest/installation.html#platform-specific-instructions), such as installing `tcpdump`, if applicable. If you're unable to get `scapy` working, please check the [FAQ's](https://docs.google.com/document/d/1FWNH1TqVD9aXqfcGrbE6o0xaJEuPrjQMhgPJMuQ5oLM/edit) or make a Piazza post!\n",
    "<br>\n",
    "<br>\n",
    "**Run the following code block to install the required modules:**"
   ]
  },
  {
   "cell_type": "code",
   "execution_count": null,
   "metadata": {},
   "outputs": [],
   "source": [
    "!pip install flask scapy requests"
   ]
  },
  {
   "cell_type": "markdown",
   "metadata": {},
   "source": [
    "***"
   ]
  },
  {
   "cell_type": "markdown",
   "metadata": {},
   "source": [
    "# Part 1: Coffee Shop Attacks"
   ]
  },
  {
   "cell_type": "markdown",
   "metadata": {},
   "source": [
    "## Preface\n",
    "\n",
    "Imagine you're sitting at a coffee shop. You connect to the coffee shop's public, shared WiFi network. You notice that EvanBot is also at the coffee shop – and connected to the same network. We'd like to explore the following questions:\n",
    "- How much of EvanBot's browsing activity can we monitor by simply being on the same WiFi network? \n",
    "- Can we interrupt his activity in any way?\n",
    "- What can EvanBot do to protect himself?"
   ]
  },
  {
   "cell_type": "markdown",
   "metadata": {},
   "source": [
    "## Quick Review: Packets\n",
    "\n",
    "A **Network Packet** is an atomic unit of structured communication. Packets contain a **Header** and a **Payload**.\n",
    "\n",
    "\n",
    "The protocols for sending information over the internet follow a layered structure. Our interpretation of these layers closely follows the [OSI 7-Layer Model](https://en.wikipedia.org/wiki/OSI_model). The three layers that we're going to explore in this lab are the Application Layer, the Transport Layer, and the Network Layer.\n",
    "- **Application Layer**: the human-readable context you want to send (i.e. HTML, JSON, etc.)\n",
    "- **Transport Layer**: this creates an end-to-end connection between the source & destination servers (i.e. UDP, TCP)\n",
    "- **Network Layer**: this finds routes through the internet to actually send messages (i.e. IP)\n",
    "\n",
    "<img style=\"float: left;\" src=\"images/layers.png\" width=\"250\">"
   ]
  },
  {
   "cell_type": "markdown",
   "metadata": {},
   "source": [
    "## Quick Review: HTTP"
   ]
  },
  {
   "cell_type": "markdown",
   "metadata": {},
   "source": [
    "\n",
    "**HTTP (Hypertext Transfer Protocol)** is an Application Layer protocol that websites and apps use to communicate with servers and databases. Just like the other layers, HTTP Packets are encapsulated in the layer below – the Transport layer. They also have headers and (optionally) payloads – check out the examples below.\n",
    "\n",
    "#### GET Requests are used to request data from a server.\n",
    "```\n",
    "GET / HTTP/1.1\n",
    "Host: squigler.com\n",
    "Dnt: 1\n",
    "```\n",
    "\n",
    "#### POST Requests are used to upload data to a server.\n",
    "```\n",
    "POST /login HTTP/1.1\n",
    "Host: squigler.com\n",
    "Content-Length: 40\n",
    "Content-Type: application/x-url-formencoded\n",
    "Dnt: 1\n",
    "\n",
    "{\"username\": \"Alice\", \"password\": \"1234\"}\n",
    "```\n",
    "\n",
    "In the first example, the GET Request contains an empty payload; all the information needed to process the request is in the header. In the second example, the POST Request contains a JSON (dictionary) payload. "
   ]
  },
  {
   "cell_type": "markdown",
   "metadata": {},
   "source": [
    "# Attack #1: Sniff Insecure Network Traffic"
   ]
  },
  {
   "cell_type": "markdown",
   "metadata": {},
   "source": [
    "EvanBot decides to log in to his CalCentral Account at http://calcentral.berkeley.edu. Can we see his username and password? **Note: he's using HTTP, not HTTPS. Why does that matter?**\n",
    "<br/>\n",
    "<br/>\n",
    "When EvanBot submits his login information via CalCentral, his browser makes a POST Request to http://calcentral.berkeley.edu/api/login with his username and password attached in the data payload. Take a look at the client-side logic (runs on EvanBot's browser) and the server-side logic (runs on the CalCentral server) below.\n",
    "***\n",
    "### Client-Side Logic\n",
    "```Python\n",
    "def handle_login_button_clicked():\n",
    "    # Make a POST Request to CalCentral, containing the entered username/password.\n",
    "    success = requests.post('http://calcentral.berkeley.edu/api/login', \n",
    "                            data=json.dumps({\n",
    "                                'username': page.get('username'),\n",
    "                                'password': page.get('password')\n",
    "                            })).json()\n",
    "    \n",
    "    # Check the value of the response.\n",
    "    if success.get('success') == True:\n",
    "        print(\"Login completed successfully!\")\n",
    "    else:\n",
    "        print(\"Username or password was incorrect.\")\n",
    "```\n",
    "***\n",
    "### Server-Side Logic\n",
    "```Python\n",
    "# Handle the POST Request on the server.\n",
    "@app.route('/api/login', methods=['POST'])\n",
    "def login_user():\n",
    "    username = request.form.get('username', '')\n",
    "    password = request.form.get('password', '')\n",
    "    \n",
    "    # Check if evanbot's username and password are valid.\n",
    "    if username == 'HIDDEN' and password == 'HIDDEN':\n",
    "        success = True\n",
    "    else:\n",
    "        success = False\n",
    "        \n",
    "    return success\n",
    "```\n",
    "***"
   ]
  },
  {
   "cell_type": "markdown",
   "metadata": {},
   "source": [
    "### Simulate a Login Event & Capture Packets"
   ]
  },
  {
   "cell_type": "markdown",
   "metadata": {},
   "source": [
    "In this attack, our goal is to simulate an on-path attacker. We're going to wait for EvanBot to log in - and then try to steal his login credentials, which are sent as plaintext over the insecure TCP connection."
   ]
  },
  {
   "cell_type": "markdown",
   "metadata": {},
   "source": [
    "**Original Instructions:**\n",
    "Open up two terminal windows. We'll refer to them as **T1** and **T2**. In both windows, change directory to the attack1 folder (`cd attack1`).\n",
    "\n",
    "_(If you're using a virtual environment, make sure both windows also run in the same environment)_\n",
    "\n",
    "1. **In Notebook**: Start sniffing for packets by running the cell below.\n",
    "2. **In T1**: start the web server by running `python app.py --port 1616`\n",
    "3. **In T2**: Simulate a login event by running `python login.py --port 1616` (in a separate terminal window)\n",
    "4. After packets show up in this cell's output, stop the cell and proceed!\n",
    "\n",
    "\n",
    "**<span style = \"color: red\">Modified Instructions: We've included the packet output for this section in `attack1.pcap` - run the cell below to import the packet capture file. Then, proceed with the analysis.</span>**"
   ]
  },
  {
   "cell_type": "code",
   "execution_count": 9,
   "metadata": {
    "scrolled": true
   },
   "outputs": [],
   "source": [
    "from scapy.all import *\n",
    "\n",
    "packets = rdpcap('attack1.pcap')"
   ]
  },
  {
   "cell_type": "markdown",
   "metadata": {},
   "source": [
    "***\n",
    "## 1.1\n",
    "* **How many TCP packets did you collect in one simulated login event? UDP packets?**\n",
    "* **How many packets contained payloads? (A packet that contains a Payload has a \"Raw\" layer.**\n",
    "* **How many bytes did the server send to the client?**\n",
    "* **How many bytes did the client send to the server?**\n",
    "\n",
    "Note: you can access the packets sniffed above using the `packets` array. Use `packet.summary()` to see a summary of the packet.\n",
    "\n",
    "_Hint: The python `len` function returns the total size (# bytes) of a packet._\n",
    "<br>\n",
    "_Hint: to differentiate server & client, look at the HTTP Payloads, or consider which of the two initiated the connection._\n",
    "***"
   ]
  },
  {
   "cell_type": "code",
   "execution_count": null,
   "metadata": {},
   "outputs": [],
   "source": [
    "# TODO: YOUR CODE HERE [to answer Checkpoint Question 1.1]"
   ]
  },
  {
   "cell_type": "markdown",
   "metadata": {},
   "source": [
    "**<span style = \"color: red\">(YOUR ANSWERS HERE)</span>**"
   ]
  },
  {
   "cell_type": "markdown",
   "metadata": {},
   "source": [
    "***"
   ]
  },
  {
   "cell_type": "markdown",
   "metadata": {},
   "source": [
    "## 1.2\n",
    "Take a closer look at the first packet (hint: use `packet.show()` to show the structure of the packet).\n",
    "* **What is the TTL of this packet?**\n",
    "* **What are the source & destination addresses of the IP layer?**\n",
    "* **What is the SEQ and ACK numbers of the TCP layer?**\n",
    "***"
   ]
  },
  {
   "cell_type": "code",
   "execution_count": null,
   "metadata": {},
   "outputs": [],
   "source": [
    "# TODO: YOUR CODE HERE [to answer Checkpoint Question 1.2]"
   ]
  },
  {
   "cell_type": "markdown",
   "metadata": {},
   "source": [
    "**<span style = \"color: red\">(YOUR ANSWERS HERE)</span>**"
   ]
  },
  {
   "cell_type": "markdown",
   "metadata": {},
   "source": [
    "***"
   ]
  },
  {
   "cell_type": "markdown",
   "metadata": {},
   "source": [
    "### Extract the Payload and Response from this TCP Connection\n",
    "Up to this point, we've analyzed the Network (IP) and Transport (TCP) layers. In order to extract EvanBot's login credentials, we need to analyze the Application (HTTP) layer.\n",
    "\n",
    "This layer is contained within the payload of a handful of packets within the TCP sequence. After the TCP connection is established, the HTTP Layer can send and receive data through the payload of the TCP connection. In our packet structure, this shows up as the \"Raw\" payloads."
   ]
  },
  {
   "cell_type": "markdown",
   "metadata": {},
   "source": [
    "***\n",
    "## 1.3\n",
    "Find the packet that contains EvanBot's username and password. \n",
    "\n",
    "*Hint: use packet.show() to show the structure of the packet. Look at the RAW (payload) section of the packet, if it exists. Not all packets contain payloads. To print the payload, use `packet[TCP].payload`.*\n",
    "\n",
    "* **What user agent did the HTTP request originate from?**\n",
    "* **What are EvanBot's username and password?**\n",
    "* **Were the username/password combination correct?**\n",
    "* **This attack wouldn't work if Evanbot was using HTTPS. Why?**\n",
    "* **This attack wouldn't work if we weren't on-path. Why?**\n",
    "***"
   ]
  },
  {
   "cell_type": "code",
   "execution_count": null,
   "metadata": {},
   "outputs": [],
   "source": [
    "# TODO: YOUR CODE HERE [to answer Checkpoint Question 1.3]"
   ]
  },
  {
   "cell_type": "markdown",
   "metadata": {},
   "source": [
    "**<span style = \"color: red\">(YOUR ANSWERS HERE)</span>**"
   ]
  },
  {
   "cell_type": "markdown",
   "metadata": {},
   "source": [
    "***"
   ]
  },
  {
   "cell_type": "markdown",
   "metadata": {},
   "source": [
    "\n",
    "# Attack #2: Perform a RST Injection Attack"
   ]
  },
  {
   "cell_type": "markdown",
   "metadata": {},
   "source": [
    "Congratulations, you're now officially an on-path attacker! You were able to observe a login event occurring over HTTP without alerting either party of your malicious actions.\n",
    "\n",
    "In this section, we're going to take your hacking skills one step further. It's time to simulate a **RST Injection Attack**! \n",
    "\n",
    "### Background\n",
    "Assume Alice and Bob are communicating over a TCP connection. For every data packet that Alice sends to Bob, Bob replies with a packet with the **ACK** flag set. This indicates a successful acknowledgement of recieving the packet. If Alice doesn't recieve the **ACK**, she can re-send the packet over and over again (to a certain limit) until Bob recieves it and acknowledges it with an **ACK**.  \n",
    "\n",
    "To terminate a TCP connection, either party can send a TCP packet with the **RST ('R')** flag set. If the sequence number of the **RST** is valid, then the connection will be terminated immediately.\n",
    "\n",
    "Examples of groups that have used this technique include:\n",
    "- China (the Great Firewall)\n",
    "- Comcast (to block BitTorrent uploads)\n",
    "- Some intrusion detection systems, to mitigate attacks in progress"
   ]
  },
  {
   "cell_type": "markdown",
   "metadata": {},
   "source": [
    "***\n",
    "## 1.4\n",
    "* **What information do we need to know or guess in order to perform a RST Injection Attack?**\n",
    "***"
   ]
  },
  {
   "cell_type": "markdown",
   "metadata": {},
   "source": [
    "**<span style = \"color: red\">(YOUR ANSWERS HERE)</span>**"
   ]
  },
  {
   "cell_type": "markdown",
   "metadata": {},
   "source": [
    "***"
   ]
  },
  {
   "cell_type": "markdown",
   "metadata": {},
   "source": [
    "### Simulate an Active TCP Connection + Inject a RST Packet"
   ]
  },
  {
   "cell_type": "markdown",
   "metadata": {},
   "source": [
    "In this section, we're going to walk through performing a RST Injection Attack by observing communication on a webserver and injecting RST packets to terminate the connection."
   ]
  },
  {
   "cell_type": "markdown",
   "metadata": {},
   "source": [
    "**Original Instructions:**\n",
    "1. Change directory to the attack2 folder (`cd attack2`)\n",
    "2. In T1, start the web server by running `python server.py --port 2020`\n",
    "3. In T2, start the client simulation by running `python client.py --port 2020` (in a separate terminal window)\n",
    "4. Proceed below.\n",
    "\n",
    "_(If you're using a virtual environment, make sure both windows also run in the same environment)_\n",
    "\n",
    "**<span style = \"color: red\">Modified Instructions: Unfortunately, since this is an alternate version of the lab, we won't be able to actually test that your attack works. Feel free to take a screenshot of your code block for this section and get it checked by a TA during OH or via Piazza.</span>**"
   ]
  },
  {
   "cell_type": "markdown",
   "metadata": {},
   "source": [
    "#### Construct the Attack"
   ]
  },
  {
   "cell_type": "markdown",
   "metadata": {},
   "source": [
    "In this attack, we have an active TCP connection to the web server running on port 2020. Our goal, as an on-path attacker, is to construct a packet injection function that responds to any sniffed packets by injecting a packet with the RST Flag set."
   ]
  },
  {
   "cell_type": "markdown",
   "metadata": {},
   "source": [
    "Fill out the appropriate segments below to proceed."
   ]
  },
  {
   "cell_type": "code",
   "execution_count": null,
   "metadata": {},
   "outputs": [],
   "source": [
    "# TODO: Fill out the appropriate fields below.\n",
    "\n",
    "def inject_packet(packet):\n",
    "    \"\"\"\n",
    "    This is a 'callback' - it's a function that's called as soon as we intercept a packet.\n",
    "    Our goal is to execute a RST Injection Attack on this connection by injecting a malicious packet.\n",
    "    \n",
    "    Hint: you will need to use these values when constructing your spoofed packet.\n",
    "    \n",
    "    - packet[IP].src\n",
    "    - packet[IP].dst\n",
    "    - packet[TCP].sport\n",
    "    - packet[TCP].dport\n",
    "    - packet[TCP].seq\n",
    "    - packet[TCP].ack\n",
    "    \n",
    "    \"\"\"\n",
    "    # Construct the IP Layer and the TCP Layer.\n",
    "    ip_layer = IP(src= ### TODO: YOUR CODE HERE ###, \n",
    "                  dst= ### TODO: YOUR CODE HERE ###)\n",
    "\n",
    "    tcp_layer = TCP(sport= ### TODO: YOUR CODE HERE ###, \n",
    "                    dport= ### TODO: YOUR CODE HERE ###, \n",
    "                    flags=  ### TODO: YOUR CODE HERE ###, \n",
    "                    window=512, \n",
    "                    seq=   ### TODO: YOUR CODE HERE ###)\n",
    "\n",
    "    # Enclose the TCP Layer within an IP Layer.\n",
    "    response_packet = ip_layer / tcp_layer\n",
    "    \n",
    "    # Send the packet.\n",
    "    send(response_packet, verbose=0, iface=NETWORK_INTERFACE)"
   ]
  },
  {
   "cell_type": "markdown",
   "metadata": {},
   "source": [
    "***\n",
    "## 1.5\n",
    "* **What was the code printed when you terminated the connection? (This makes sure you actually successfully performed the RST Injection Attack).** **<span style = \"color: red\">Modified Instructions: Get this code from a TA via OH or via Piazza.</span>**\n",
    "* **Would an off-path attacker be able to perform a RST Injection Attack?**\n",
    "* **Would a RST Injection Attack work on HTTPS traffic?**\n",
    "***"
   ]
  },
  {
   "cell_type": "markdown",
   "metadata": {},
   "source": [
    "**<span style = \"color: red\">(YOUR ANSWERS HERE)</span>**"
   ]
  },
  {
   "cell_type": "markdown",
   "metadata": {},
   "source": [
    "***"
   ]
  },
  {
   "cell_type": "markdown",
   "metadata": {},
   "source": [
    "# Part 2: Other Networking Topics"
   ]
  },
  {
   "cell_type": "markdown",
   "metadata": {},
   "source": [
    "This part requires the `dig` command-line tool in order to work properly. It comes built in on MacOS and Linux, but if you're on Windows, you may need to install it [here](https://help.dyn.com/how-to-use-binds-dig-tool/). If you're having issues, please make a Piazza post!"
   ]
  },
  {
   "cell_type": "markdown",
   "metadata": {},
   "source": [
    "### Quick Review: DNS"
   ]
  },
  {
   "cell_type": "markdown",
   "metadata": {},
   "source": [
    "The Internet is commonly indexed in two different ways. Humans refer to websites using human-readable names such as http://google.com and http://eecs.berkeley.edu, while computers refer to websites using IP addresses such as `172.217.4.174` and `23.195.69.108`. DNS, or the Domain Name System, is the protocol that translates between the two.\n",
    "\n",
    "Your local computer usually delegates the task of DNS lookups to a **DNS Recursive Resolver**, which sends the queries, processes the responses, and maintains an internal cache of records. When performing a lookup, the **DNS Stub Resolver** on your computer sends a query to the recursive resolver, lets it do all the work, and receives the response. The recursive resolver is usually provided by your ISP and/or configured into your network connection by DHCP.\n",
    "\n",
    "The **DNS Authority Servers** or name servers are servers on the Internet responsible for answering DNS queries. There is a special set of authority servers, the root servers, that are publicly known - you can see them for yourself here."
   ]
  },
  {
   "cell_type": "markdown",
   "metadata": {},
   "source": [
    "### Sniff DNS Lookup"
   ]
  },
  {
   "cell_type": "markdown",
   "metadata": {},
   "source": [
    "To start, we're going to take a look at the structure of a DNS Lookup. Run the cell below, and run `dig eecs.berkeley.edu` immediately after in a terminal window. You should see two packets printed below: a DNS Query, and a DNS Answer. \n",
    "\n",
    "**<span style = \"color: red\">Modified Instructions: We'll run this command for you and load the packets in from the `dig.pcap` file.</span>**"
   ]
  },
  {
   "cell_type": "code",
   "execution_count": 17,
   "metadata": {
    "scrolled": false
   },
   "outputs": [],
   "source": [
    "#! /usr/bin/env python3\n",
    "\n",
    "from scapy.all import DNS, DNSQR, DNSRR, IP, send, sniff, sr1, UDP\n",
    "\n",
    "packets=rdpcap('dig.pcap')"
   ]
  },
  {
   "cell_type": "markdown",
   "metadata": {},
   "source": [
    "***\n",
    "## 2.1\n",
    "* **What is the structure of the DNS Query & Response?**\n",
    "* **Does the DNS Query & Response use TCP or UDP? Why do you think so?**\n",
    "* **What is the IP Address of your DNS Recursive Resolver?**\n",
    "***"
   ]
  },
  {
   "cell_type": "code",
   "execution_count": null,
   "metadata": {},
   "outputs": [],
   "source": [
    "# YOUR CODE HERE for Checkpoint Question 2.1"
   ]
  },
  {
   "cell_type": "markdown",
   "metadata": {},
   "source": [
    "**<span style = \"color: red\">(YOUR ANSWERS HERE)</span>**"
   ]
  },
  {
   "cell_type": "markdown",
   "metadata": {},
   "source": [
    "***"
   ]
  }
 ],
 "metadata": {
  "kernelspec": {
   "display_name": "Python 3",
   "language": "python",
   "name": "python3"
  },
  "language_info": {
   "codemirror_mode": {
    "name": "ipython",
    "version": 3
   },
   "file_extension": ".py",
   "mimetype": "text/x-python",
   "name": "python",
   "nbconvert_exporter": "python",
   "pygments_lexer": "ipython3",
   "version": "3.7.3"
  }
 },
 "nbformat": 4,
 "nbformat_minor": 4
}
